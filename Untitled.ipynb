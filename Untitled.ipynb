{
 "cells": [
  {
   "cell_type": "code",
   "execution_count": 19,
   "id": "0de4172b-089d-4465-a476-baead2e66636",
   "metadata": {},
   "outputs": [],
   "source": [
    "import pandas as pd\n",
    "import networkx as nx\n",
    "import glob\n",
    "import os\n",
    "import yaml\n",
    "import grai"
   ]
  },
  {
   "cell_type": "code",
   "execution_count": 20,
   "id": "9ca434e4-a80d-4ff5-b627-e4063ec89679",
   "metadata": {},
   "outputs": [],
   "source": [
    "folder = 'examples/sales/project'\n"
   ]
  },
  {
   "cell_type": "code",
   "execution_count": 22,
   "id": "9dd13897-8f0f-47da-b9a5-2330446fd354",
   "metadata": {},
   "outputs": [],
   "source": [
    "search = '*.yaml'\n",
    "entity_files = glob.glob(os.path.join(folder, 'entities', search))\n",
    "\n",
    "def get_node(file):\n",
    "    with open(file, 'r') as f:\n",
    "        data = f.read()\n",
    "        res = yaml.safe_load(data)\n",
    "    return res\n",
    "\n",
    "nodes = [get_node(file) for file in entity_files]\n",
    "\n",
    "G_dict = {}\n",
    "edge_data = {}\n",
    "node_data = {}\n",
    "for node in nodes:\n",
    "    namespace = node.get('namespace', 'default')\n",
    "    for entity in node['entities']:\n",
    "        name = f\"{namespace}.{entity['name']}\"\n",
    "        G_dict.setdefault(name, {})\n",
    "        node_data[name] = {k: entity[k] for k in ['source', 'column']}\n",
    "        for relation in entity.get('relations', []):\n",
    "            rel_name = f\"{relation.get('namespace', 'default')}.{relation['name']}\"\n",
    "            G_dict[name]={rel_name: rel_name}\n",
    "            \n",
    "            edge_key = (name, rel_name)\n",
    "            edge_values = relation['crosswalk']\n",
    "            edge_data[edge_key] = edge_values\n",
    "            \n",
    "            \n",
    "\n",
    "G = nx.DiGraph(G_dict)\n",
    "nx.set_edge_attributes(G, edge_data)\n",
    "nx.set_node_attributes(G, node_data)\n"
   ]
  },
  {
   "cell_type": "code",
   "execution_count": 23,
   "id": "776f1b21-da03-4c47-b8e3-a30067d06f19",
   "metadata": {},
   "outputs": [
    {
     "data": {
      "text/plain": [
       "{'default.source_a_id': 'sales_source_a_table',\n",
       " 'default.source_c_id': 'sales_source_c_table',\n",
       " 'default.source_b_id': 'sales_source_b_table',\n",
       " 'default.uuid': 'uuid_table'}"
      ]
     },
     "execution_count": 23,
     "metadata": {},
     "output_type": "execute_result"
    }
   ],
   "source": [
    "d = nx.get_node_attributes(G, 'source')\n",
    "d"
   ]
  },
  {
   "cell_type": "code",
   "execution_count": 72,
   "id": "44bc398b-a226-4ac8-a301-6c157d321260",
   "metadata": {},
   "outputs": [
    {
     "data": {
      "text/plain": [
       "{'source': 'crosswalk_uuid_a_table', 'from': 'id_a', 'to': 'uuid'}"
      ]
     },
     "execution_count": 72,
     "metadata": {},
     "output_type": "execute_result"
    }
   ],
   "source": [
    "G.edges[('default.source_a_id', 'default.uuid')]"
   ]
  },
  {
   "cell_type": "code",
   "execution_count": 68,
   "id": "82b4c4ed-bc3a-4af9-a59b-c0fb23d6b199",
   "metadata": {},
   "outputs": [
    {
     "data": {
      "image/png": "[encoded data removed]",
      "text/plain": [
       "<Figure size 432x288 with 1 Axes>"
      ]
     },
     "metadata": {},
     "output_type": "display_data"
    }
   ],
   "source": [
    "nx.draw_networkx(G)b\n",
    "nb"
   ]
  },
  {
   "cell_type": "code",
   "execution_count": 25,
   "id": "743ca6f9-2b5d-4fec-b2a5-8ba088640e2f",
   "metadata": {},
   "outputs": [
    {
     "ename": "KeyError",
     "evalue": "'sales_source_a_table'",
     "output_type": "error",
     "traceback": [
      "\u001b[0;31m---------------------------------------------------------------------------\u001b[0m",
      "\u001b[0;31mKeyError\u001b[0m                                  Traceback (most recent call last)",
      "Input \u001b[0;32mIn [25]\u001b[0m, in \u001b[0;36m<cell line: 21>\u001b[0;34m()\u001b[0m\n\u001b[1;32m     18\u001b[0m column \u001b[38;5;241m=\u001b[39m {\u001b[38;5;124m'\u001b[39m\u001b[38;5;124mname\u001b[39m\u001b[38;5;124m'\u001b[39m: \u001b[38;5;124m'\u001b[39m\u001b[38;5;124muuid\u001b[39m\u001b[38;5;124m'\u001b[39m, \u001b[38;5;124m'\u001b[39m\u001b[38;5;124mentity\u001b[39m\u001b[38;5;124m'\u001b[39m: {\u001b[38;5;124m'\u001b[39m\u001b[38;5;124mnamespace\u001b[39m\u001b[38;5;124m'\u001b[39m: \u001b[38;5;124m'\u001b[39m\u001b[38;5;124mdefault\u001b[39m\u001b[38;5;124m'\u001b[39m, \u001b[38;5;124m'\u001b[39m\u001b[38;5;124mname\u001b[39m\u001b[38;5;124m'\u001b[39m: \u001b[38;5;124m'\u001b[39m\u001b[38;5;124muuid\u001b[39m\u001b[38;5;124m'\u001b[39m}, \u001b[38;5;124m'\u001b[39m\u001b[38;5;124morigin\u001b[39m\u001b[38;5;124m'\u001b[39m: \u001b[38;5;124m'\u001b[39m\u001b[38;5;124mid\u001b[39m\u001b[38;5;124m'\u001b[39m}\n\u001b[1;32m     19\u001b[0m target_node \u001b[38;5;241m=\u001b[39m \u001b[38;5;124m'\u001b[39m\u001b[38;5;124mdefault.uuid\u001b[39m\u001b[38;5;124m'\u001b[39m\n\u001b[0;32m---> 21\u001b[0m df \u001b[38;5;241m=\u001b[39m pd\u001b[38;5;241m.\u001b[39mread_csv(\u001b[43msource_ref\u001b[49m\u001b[43m[\u001b[49m\u001b[43msource\u001b[49m\u001b[43m]\u001b[49m)\n\u001b[1;32m     23\u001b[0m \u001b[38;5;28;01mdef\u001b[39;00m \u001b[38;5;21mcrosswalk\u001b[39m(df, target_node, source, source_column):\n\u001b[1;32m     24\u001b[0m     source_node \u001b[38;5;241m=\u001b[39m find_node(G, {\u001b[38;5;124m'\u001b[39m\u001b[38;5;124msource\u001b[39m\u001b[38;5;124m'\u001b[39m: source, \u001b[38;5;124m'\u001b[39m\u001b[38;5;124mcolumn\u001b[39m\u001b[38;5;124m'\u001b[39m: source_column})\n",
      "\u001b[0;31mKeyError\u001b[0m: 'sales_source_a_table'"
     ]
    }
   ],
   "source": [
    "def get_edges(G, a, b):\n",
    "    path = nx.shortest_path(G, a, b)\n",
    "    return list(zip(path[0:-1], path[1:]))\n",
    "\n",
    "def find_node(G, attrs):\n",
    "    for node in G.nodes:\n",
    "        if all(G.nodes[node][k] == v for k, v in attrs.items()):\n",
    "            return node\n",
    "    \n",
    "    raise Exception(f'No matching node for {attrs}')\n",
    "        \n",
    "file = folder+'/data/sales_source_a_table.csv'\n",
    "\n",
    "source_ref = grai.utilities.read_pickle(folder+'/build/source_ref.pickle')\n",
    "source_ref = {k: f'{folder}/{v[1:]}' for k, v in source_ref.items()}\n",
    "\n",
    "source = 'sales_source_a_table'\n",
    "column = {'name': 'uuid', 'entity': {'namespace': 'default', 'name': 'uuid'}, 'origin': 'id'}\n",
    "target_node = 'default.uuid'\n",
    "\n",
    "df = pd.read_csv(source_ref[source])\n",
    "\n",
    "def crosswalk(df, target_node, source, source_column):\n",
    "    source_node = find_node(G, {'source': source, 'column': source_column})\n",
    "    for edge in get_edges(G, source_node, target_node):\n",
    "        params = G.edges[edge]\n",
    "        needed_values = [params[target] for target in ['from', 'to']]\n",
    "        cross_walk = pd.read_csv(source_ref[params['source']], usecols=needed_values)\n",
    "        df = df.merge(cross_walk, how='left', left_on=column['origin'], right_on=params['from'])\n",
    "        df = df.drop(columns=[params['from'], column['origin']])\n",
    "    return df\n",
    "crosswalk(df, target_node, source, column['origin'])"
   ]
  },
  {
   "cell_type": "code",
   "execution_count": null,
   "id": "6a425cc7-f810-4c19-a269-08f5eb63a030",
   "metadata": {},
   "outputs": [],
   "source": []
  },
  {
   "cell_type": "code",
   "execution_count": 16,
   "id": "6644ac12-b8ce-4e28-83b1-b9254661f8c1",
   "metadata": {},
   "outputs": [
    {
     "data": {
      "text/plain": [
       "{'default.sales_source_a_table': 'examples/sales/project//data/sales_source_a_table.csv',\n",
       " 'default.sales_source_c_table': 'examples/sales/project//data/sales_source_c_table.csv',\n",
       " 'default.uuid_table': 'examples/sales/project//data/uuid_table.csv',\n",
       " 'default.sales_source_b_table': 'examples/sales/project//data/sales_source_b_table.csv',\n",
       " 'default.crosswalk_uuid_a_table': 'examples/sales/project//data/crosswalks/crosswalk_uuid_a_table.csv',\n",
       " 'default.crosswalk_uuid_c_table': 'examples/sales/project//data/crosswalks/crosswalk_uuid_c_table.csv',\n",
       " 'default.crosswalk_uuid_b_table': 'examples/sales/project//data/crosswalks/crosswalk_uuid_b_table.csv'}"
      ]
     },
     "execution_count": 16,
     "metadata": {},
     "output_type": "execute_result"
    }
   ],
   "source": [
    "source_ref"
   ]
  },
  {
   "cell_type": "code",
   "execution_count": 29,
   "id": "e7217aac-4196-433f-bd8b-c3b499e4e09f",
   "metadata": {},
   "outputs": [
    {
     "data": {
      "text/plain": [
       "0     2020-01-01 07:43:19\n",
       "1     2020-01-01 10:52:29\n",
       "2     2020-01-01 15:16:38\n",
       "3     2020-01-02 05:20:38\n",
       "4     2020-01-02 22:03:12\n",
       "              ...        \n",
       "995   2020-12-27 23:21:17\n",
       "996   2020-12-29 04:23:01\n",
       "997   2020-12-29 04:23:46\n",
       "998   2020-12-29 15:40:42\n",
       "999   2020-12-29 18:54:17\n",
       "Name: ts, Length: 1000, dtype: datetime64[ns]"
      ]
     },
     "execution_count": 29,
     "metadata": {},
     "output_type": "execute_result"
    }
   ],
   "source": [
    "df = pd.read_csv(file)\n",
    "pd.to_datetime(df.ts)"
   ]
  },
  {
   "cell_type": "code",
   "execution_count": 30,
   "id": "07e11ef1-348f-4a3b-bdd2-0e3ba69bd801",
   "metadata": {},
   "outputs": [
    {
     "data": {
      "text/plain": [
       "0      2020-01-01 07:43:19\n",
       "1      2020-01-01 10:52:29\n",
       "2      2020-01-01 15:16:38\n",
       "3      2020-01-02 05:20:38\n",
       "4      2020-01-02 22:03:12\n",
       "              ...         \n",
       "995    2020-12-27 23:21:17\n",
       "996    2020-12-29 04:23:01\n",
       "997    2020-12-29 04:23:46\n",
       "998    2020-12-29 15:40:42\n",
       "999    2020-12-29 18:54:17\n",
       "Name: ts, Length: 1000, dtype: object"
      ]
     },
     "execution_count": 30,
     "metadata": {},
     "output_type": "execute_result"
    }
   ],
   "source": [
    "df.ts.astype(str)"
   ]
  },
  {
   "cell_type": "code",
   "execution_count": 35,
   "id": "d1751b1c-520c-4305-b6b4-7abd83d9312c",
   "metadata": {},
   "outputs": [
    {
     "ename": "AttributeError",
     "evalue": "'set' object has no attribute 'intersects'",
     "output_type": "error",
     "traceback": [
      "\u001b[0;31m---------------------------------------------------------------------------\u001b[0m",
      "\u001b[0;31mAttributeError\u001b[0m                            Traceback (most recent call last)",
      "Input \u001b[0;32mIn [35]\u001b[0m, in \u001b[0;36m<cell line: 1>\u001b[0;34m()\u001b[0m\n\u001b[0;32m----> 1\u001b[0m \u001b[43m{\u001b[49m\u001b[38;5;124;43m'\u001b[39;49m\u001b[38;5;124;43ma\u001b[39;49m\u001b[38;5;124;43m'\u001b[39;49m\u001b[43m}\u001b[49m\u001b[38;5;241;43m.\u001b[39;49m\u001b[43mintersects\u001b[49m({\u001b[38;5;124m'\u001b[39m\u001b[38;5;124ma\u001b[39m\u001b[38;5;124m'\u001b[39m: \u001b[38;5;241m2\u001b[39m, \u001b[38;5;124m'\u001b[39m\u001b[38;5;124mb\u001b[39m\u001b[38;5;124m'\u001b[39m: \u001b[38;5;241m3\u001b[39m})\n",
      "\u001b[0;31mAttributeError\u001b[0m: 'set' object has no attribute 'intersects'"
     ]
    }
   ],
   "source": [
    "{'a'}.intersects({'a': 2, 'b': 3})"
   ]
  },
  {
   "cell_type": "code",
   "execution_count": 36,
   "id": "a71b4bd6-9455-49fd-9726-359b98bebc65",
   "metadata": {},
   "outputs": [],
   "source": [
    "x = {'a'}"
   ]
  },
  {
   "cell_type": "code",
   "execution_count": 39,
   "id": "c6edc39a-ac76-429c-a30e-e8c2124e7b26",
   "metadata": {},
   "outputs": [
    {
     "data": {
      "text/plain": [
       "False"
      ]
     },
     "execution_count": 39,
     "metadata": {},
     "output_type": "execute_result"
    }
   ],
   "source": [
    "x.isdisjoint({'a', 'b'})"
   ]
  },
  {
   "cell_type": "code",
   "execution_count": 50,
   "id": "776318d6-bf10-4195-bae6-36f0e4d87d31",
   "metadata": {},
   "outputs": [],
   "source": [
    "\n",
    "class BaseDataType:\n",
    "    aggregates_on = False\n",
    "\n",
    "\n",
    "class Integer(BaseDataType):\n",
    "    def __init__(self, **kwargs):\n",
    "        super().__init__(**kwargs)\n",
    "\n",
    "\n",
    "class Float(BaseDataType):\n",
    "    def __init__(self, **kwargs):\n",
    "        super().__init__(**kwargs)\n",
    "\n",
    "\n",
    "class Timestamp(BaseDataType):\n",
    "    def __init__(self, **kwargs):\n",
    "        self.frequency = kwargs.pop('frequency', None)\n",
    "        self.aggregates_on = self.frequency is not None\n",
    "        super().__init__(**kwargs)\n",
    "        \n"
   ]
  },
  {
   "cell_type": "code",
   "execution_count": 51,
   "id": "70cd3bca-07e5-4c3d-9944-687522b05588",
   "metadata": {},
   "outputs": [
    {
     "data": {
      "text/plain": [
       "True"
      ]
     },
     "execution_count": 51,
     "metadata": {},
     "output_type": "execute_result"
    }
   ],
   "source": [
    "Timestamp(**{'frequency': 'M'}).aggregates_on"
   ]
  },
  {
   "cell_type": "code",
   "execution_count": 54,
   "id": "b1f89f36-3778-434e-a001-9578a3dc9666",
   "metadata": {},
   "outputs": [],
   "source": [
    "x = pd.to_datetime(df.ts)"
   ]
  },
  {
   "cell_type": "code",
   "execution_count": 66,
   "id": "48f75e79-0cf5-412e-97d8-32310c59fa2b",
   "metadata": {},
   "outputs": [
    {
     "data": {
      "text/plain": [
       "0     2020-01-01\n",
       "1     2020-01-01\n",
       "2     2020-01-01\n",
       "3     2020-01-02\n",
       "4     2020-01-02\n",
       "         ...    \n",
       "995   2020-12-27\n",
       "996   2020-12-29\n",
       "997   2020-12-29\n",
       "998   2020-12-29\n",
       "999   2020-12-29\n",
       "Name: ts, Length: 1000, dtype: datetime64[ns]"
      ]
     },
     "execution_count": 66,
     "metadata": {},
     "output_type": "execute_result"
    }
   ],
   "source": [
    "x.dt.floor('D')"
   ]
  },
  {
   "cell_type": "code",
   "execution_count": null,
   "id": "b6e095be-7054-4302-86ce-2c6c36191da4",
   "metadata": {},
   "outputs": [],
   "source": []
  }
 ],
 "metadata": {
  "kernelspec": {
   "display_name": "Python 3 (ipykernel)",
   "language": "python",
   "name": "python3"
  },
  "language_info": {
   "codemirror_mode": {
    "name": "ipython",
    "version": 3
   },
   "file_extension": ".py",
   "mimetype": "text/x-python",
   "name": "python",
   "nbconvert_exporter": "python",
   "pygments_lexer": "ipython3",
   "version": "3.10.0"
  }
 },
 "nbformat": 4,
 "nbformat_minor": 5
}
